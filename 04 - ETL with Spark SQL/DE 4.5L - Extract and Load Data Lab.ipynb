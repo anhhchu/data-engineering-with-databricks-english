{
 "cells": [
  {
   "cell_type": "markdown",
   "metadata": {
    "application/vnd.databricks.v1+cell": {
     "cellMetadata": {},
     "inputWidgets": {},
     "nuid": "3a44924c-a1c4-4167-9058-2b8719fbb9d1",
     "showTitle": false,
     "title": ""
    }
   },
   "source": [
    "-sandbox\n",
    "\n",
    "<div style=\"text-align: center; line-height: 0; padding-top: 9px;\">\n",
    "  <img src=\"https://databricks.com/wp-content/uploads/2018/03/db-academy-rgb-1200px.png\" alt=\"Databricks Learning\" style=\"width: 600px\">\n",
    "</div>"
   ]
  },
  {
   "cell_type": "markdown",
   "metadata": {
    "application/vnd.databricks.v1+cell": {
     "cellMetadata": {},
     "inputWidgets": {},
     "nuid": "7a011b7a-5253-4864-927a-cd0e4780a0d0",
     "showTitle": false,
     "title": ""
    }
   },
   "source": [
    "<i18n value=\"d2c3cdc2-5fcf-4edc-8101-2964a9355000\"/>\n",
    "\n",
    "\n",
    "# Extract and Load Data Lab\n",
    "\n",
    "In this lab, you will extract and load raw data from JSON files into a Delta table.\n",
    "\n",
    "## Learning Objectives\n",
    "By the end of this lab, you should be able to:\n",
    "- Create an external table to extract data from JSON files\n",
    "- Create an empty Delta table with a provided schema\n",
    "- Insert records from an existing table into a Delta table\n",
    "- Use a CTAS statement to create a Delta table from files"
   ]
  },
  {
   "cell_type": "markdown",
   "metadata": {
    "application/vnd.databricks.v1+cell": {
     "cellMetadata": {},
     "inputWidgets": {},
     "nuid": "2c6d9713-718e-40cb-9b14-6cf5c2ebc119",
     "showTitle": false,
     "title": ""
    }
   },
   "source": [
    "<i18n value=\"e261fd97-ffd7-44b2-b1ca-61b843ee8961\"/>\n",
    "\n",
    "\n",
    "## Run Setup\n",
    "\n",
    "Run the following cell to configure variables and datasets for this lesson."
   ]
  },
  {
   "cell_type": "code",
   "execution_count": 0,
   "metadata": {
    "application/vnd.databricks.v1+cell": {
     "cellMetadata": {
      "byteLimit": 2048000,
      "rowLimit": 10000
     },
     "inputWidgets": {},
     "nuid": "9280e475-6a55-4a25-8fe2-06046c4bd711",
     "showTitle": false,
     "title": ""
    }
   },
   "outputs": [],
   "source": [
    "%run ../Includes/Classroom-Setup-04.5L"
   ]
  },
  {
   "cell_type": "markdown",
   "metadata": {
    "application/vnd.databricks.v1+cell": {
     "cellMetadata": {},
     "inputWidgets": {},
     "nuid": "698b31b8-39c3-4a92-b23b-d653652dac1a",
     "showTitle": false,
     "title": ""
    }
   },
   "source": [
    "<i18n value=\"d7759322-f9b9-4abe-9b30-25f5a7e30d9c\"/>\n",
    "\n",
    "\n",
    "## Overview of the Data\n",
    "\n",
    "We will work with a sample of raw Kafka data written as JSON files. \n",
    "\n",
    "Each file contains all records consumed during a 5-second interval, stored with the full Kafka schema as a multiple-record JSON file. \n",
    "\n",
    "The schema for the table:\n",
    "\n",
    "| field  | type | description |\n",
    "| ------ | ---- | ----------- |\n",
    "| key    | BINARY | The **`user_id`** field is used as the key; this is a unique alphanumeric field that corresponds to session/cookie information |\n",
    "| offset | LONG | This is a unique value, monotonically increasing for each partition |\n",
    "| partition | INTEGER | Our current Kafka implementation uses only 2 partitions (0 and 1) |\n",
    "| timestamp | LONG    | This timestamp is recorded as milliseconds since epoch, and represents the time at which the producer appends a record to a partition |\n",
    "| topic | STRING | While the Kafka service hosts multiple topics, only those records from the **`clickstream`** topic are included here |\n",
    "| value | BINARY | This is the full data payload (to be discussed later), sent as JSON |"
   ]
  },
  {
   "cell_type": "markdown",
   "metadata": {
    "application/vnd.databricks.v1+cell": {
     "cellMetadata": {},
     "inputWidgets": {},
     "nuid": "df6a5ca6-1d73-4242-9362-f2ce9d48a5ba",
     "showTitle": false,
     "title": ""
    }
   },
   "source": [
    "<i18n value=\"f2cd70fe-65a1-4dce-b264-c0c7d225640a\"/>\n",
    "\n",
    " \n",
    "## Extract Raw Events From JSON Files\n",
    "To load this data into Delta properly, we first need to extract the JSON data using the correct schema.\n",
    "\n",
    "Create an external table against JSON files located at the filepath provided below. Name this table **`events_json`** and declare the schema above."
   ]
  },
  {
   "cell_type": "code",
   "execution_count": 0,
   "metadata": {
    "application/vnd.databricks.v1+cell": {
     "cellMetadata": {
      "byteLimit": 2048000,
      "rowLimit": 10000
     },
     "inputWidgets": {},
     "nuid": "399ae8fc-cdd8-49a9-bd41-ce2d790cc8b0",
     "showTitle": false,
     "title": ""
    }
   },
   "outputs": [],
   "source": [
    "%python\n",
    "dbutils.fs.ls(f\"{DA.paths.datasets}/ecommerce/raw/events-kafka\")"
   ]
  },
  {
   "cell_type": "code",
   "execution_count": 0,
   "metadata": {
    "application/vnd.databricks.v1+cell": {
     "cellMetadata": {
      "byteLimit": 2048000,
      "rowLimit": 10000
     },
     "inputWidgets": {},
     "nuid": "5d59b301-1741-4108-b88d-d7fe90da2126",
     "showTitle": false,
     "title": ""
    }
   },
   "outputs": [],
   "source": [
    "-- TODO\n",
    "create table events_json \n",
    "(key binary, offset long, partition integer, timestamp long, topic string, value binary)\n",
    "using json\n",
    "options (path = \"${da.paths.datasets}/ecommerce/raw/events-kafka/\")\n"
   ]
  },
  {
   "cell_type": "code",
   "execution_count": 0,
   "metadata": {
    "application/vnd.databricks.v1+cell": {
     "cellMetadata": {
      "byteLimit": 2048000,
      "rowLimit": 10000
     },
     "inputWidgets": {},
     "nuid": "9f8de663-85fe-4659-a88a-135df9299852",
     "showTitle": false,
     "title": ""
    }
   },
   "outputs": [],
   "source": [
    "select * from events_json limit 10"
   ]
  },
  {
   "cell_type": "markdown",
   "metadata": {
    "application/vnd.databricks.v1+cell": {
     "cellMetadata": {},
     "inputWidgets": {},
     "nuid": "8f598689-849e-4cb2-a96a-358b09170e56",
     "showTitle": false,
     "title": ""
    }
   },
   "source": [
    "<i18n value=\"07ce3850-fdc7-4dea-9335-2a093c2e200c\"/>\n",
    "\n",
    "\n",
    "**NOTE**: We'll use Python to run checks occasionally throughout the lab. The following cell will return an error with a message on what needs to change if you have not followed instructions. No output from cell execution means that you have completed this step."
   ]
  },
  {
   "cell_type": "code",
   "execution_count": 0,
   "metadata": {
    "application/vnd.databricks.v1+cell": {
     "cellMetadata": {
      "byteLimit": 2048000,
      "rowLimit": 10000
     },
     "inputWidgets": {},
     "nuid": "9276c1c0-8e85-49e9-b824-3f3644f077b2",
     "showTitle": false,
     "title": ""
    }
   },
   "outputs": [],
   "source": [
    "%python\n",
    "assert spark.table(\"events_json\"), \"Table named `events_json` does not exist\"\n",
    "assert spark.table(\"events_json\").columns == ['key', 'offset', 'partition', 'timestamp', 'topic', 'value'], \"Please name the columns in the order provided above\"\n",
    "assert spark.table(\"events_json\").dtypes == [('key', 'binary'), ('offset', 'bigint'), ('partition', 'int'), ('timestamp', 'bigint'), ('topic', 'string'), ('value', 'binary')], \"Please make sure the column types are identical to those provided above\"\n",
    "\n",
    "total = spark.table(\"events_json\").count()\n",
    "assert total == 2252, f\"Expected 2252 records, found {total}\""
   ]
  },
  {
   "cell_type": "markdown",
   "metadata": {
    "application/vnd.databricks.v1+cell": {
     "cellMetadata": {},
     "inputWidgets": {},
     "nuid": "8dcd9aee-04da-4269-bd84-935bea96736f",
     "showTitle": false,
     "title": ""
    }
   },
   "source": [
    "<i18n value=\"ae3b8554-d0e7-4fd7-b25a-27bfbc5f7c13\"/>\n",
    "\n",
    "\n",
    "\n",
    "## Insert Raw Events Into Delta Table\n",
    "Create an empty managed Delta table named **`events_raw`** using the same schema."
   ]
  },
  {
   "cell_type": "code",
   "execution_count": 0,
   "metadata": {
    "application/vnd.databricks.v1+cell": {
     "cellMetadata": {
      "byteLimit": 2048000,
      "rowLimit": 10000
     },
     "inputWidgets": {},
     "nuid": "a23946ca-cc54-46dd-b3d6-1038ae12edef",
     "showTitle": false,
     "title": ""
    }
   },
   "outputs": [],
   "source": [
    "-- TODO\n",
    "create or replace table events_raw\n",
    "(key binary, offset bigint, partition int, timestamp bigint, topic string, value binary)"
   ]
  },
  {
   "cell_type": "markdown",
   "metadata": {
    "application/vnd.databricks.v1+cell": {
     "cellMetadata": {},
     "inputWidgets": {},
     "nuid": "339f6e97-c015-419e-b8f2-138af39844e7",
     "showTitle": false,
     "title": ""
    }
   },
   "source": [
    "<i18n value=\"3d56975b-47ba-4678-ae7b-7c5e4ac20a97\"/>\n",
    "\n",
    "\n",
    "\n",
    "Run the cell below to confirm the table was created correctly."
   ]
  },
  {
   "cell_type": "code",
   "execution_count": 0,
   "metadata": {
    "application/vnd.databricks.v1+cell": {
     "cellMetadata": {
      "byteLimit": 2048000,
      "rowLimit": 10000
     },
     "inputWidgets": {},
     "nuid": "86da6b3a-260c-473f-a686-7324722d4c19",
     "showTitle": false,
     "title": ""
    }
   },
   "outputs": [],
   "source": [
    "%python\n",
    "assert spark.table(\"events_raw\"), \"Table named `events_raw` does not exist\"\n",
    "assert spark.table(\"events_raw\").columns == ['key', 'offset', 'partition', 'timestamp', 'topic', 'value'], \"Please name the columns in the order provided above\"\n",
    "assert spark.table(\"events_raw\").dtypes == [('key', 'binary'), ('offset', 'bigint'), ('partition', 'int'), ('timestamp', 'bigint'), ('topic', 'string'), ('value', 'binary')], \"Please make sure the column types are identical to those provided above\"\n",
    "assert spark.table(\"events_raw\").count() == 0, \"The table should have 0 records\""
   ]
  },
  {
   "cell_type": "markdown",
   "metadata": {
    "application/vnd.databricks.v1+cell": {
     "cellMetadata": {},
     "inputWidgets": {},
     "nuid": "81259a44-0889-4c92-b245-ed4c81adbaff",
     "showTitle": false,
     "title": ""
    }
   },
   "source": [
    "<i18n value=\"61815a62-6d4f-47fb-98a9-73c39842ac56\"/>\n",
    "\n",
    "\n",
    "\n",
    "Once the extracted data and Delta table are ready, insert the JSON records from the **`events_json`** table into the new **`events_raw`** Delta table."
   ]
  },
  {
   "cell_type": "code",
   "execution_count": 0,
   "metadata": {
    "application/vnd.databricks.v1+cell": {
     "cellMetadata": {
      "byteLimit": 2048000,
      "rowLimit": 10000
     },
     "inputWidgets": {},
     "nuid": "b63edb78-2705-4fb3-8263-56f0304e701b",
     "showTitle": false,
     "title": ""
    }
   },
   "outputs": [],
   "source": [
    "-- TODO\n",
    "insert into events_raw \n",
    "select * from events_json"
   ]
  },
  {
   "cell_type": "markdown",
   "metadata": {
    "application/vnd.databricks.v1+cell": {
     "cellMetadata": {},
     "inputWidgets": {},
     "nuid": "1c28f76f-f5d7-4d53-b84b-d6c47849ea85",
     "showTitle": false,
     "title": ""
    }
   },
   "source": [
    "<i18n value=\"4f545052-31c6-442b-a5e8-4c5892ec912f\"/>\n",
    "\n",
    "\n",
    "Manually review the table contents to ensure data was written as expected."
   ]
  },
  {
   "cell_type": "code",
   "execution_count": 0,
   "metadata": {
    "application/vnd.databricks.v1+cell": {
     "cellMetadata": {
      "byteLimit": 2048000,
      "rowLimit": 10000
     },
     "inputWidgets": {},
     "nuid": "bc5af1f9-dba8-4e8f-ae77-456722d64b10",
     "showTitle": false,
     "title": ""
    }
   },
   "outputs": [],
   "source": [
    "-- TODO\n",
    "select * from events_raw limit 10;"
   ]
  },
  {
   "cell_type": "markdown",
   "metadata": {
    "application/vnd.databricks.v1+cell": {
     "cellMetadata": {},
     "inputWidgets": {},
     "nuid": "678ba5a3-e60c-4120-b1ff-950c4bda2be9",
     "showTitle": false,
     "title": ""
    }
   },
   "source": [
    "<i18n value=\"0d66f26b-3df6-4819-9d84-22da9f55aeaa\"/>\n",
    "\n",
    "\n",
    "\n",
    "Run the cell below to confirm the data has been loaded correctly."
   ]
  },
  {
   "cell_type": "code",
   "execution_count": 0,
   "metadata": {
    "application/vnd.databricks.v1+cell": {
     "cellMetadata": {
      "byteLimit": 2048000,
      "rowLimit": 10000
     },
     "inputWidgets": {},
     "nuid": "bc6ee08b-1edf-4397-a0da-a01ec1c15c97",
     "showTitle": false,
     "title": ""
    }
   },
   "outputs": [],
   "source": [
    "%python\n",
    "import pyspark.sql.functions as F\n",
    "assert spark.table(\"events_raw\").count() == 2252, \"The table should have 2252 records\"\n",
    "\n",
    "first_5 = [row['timestamp'] for row in spark.table(\"events_raw\").select(\"timestamp\").orderBy(F.col(\"timestamp\").asc()).limit(5).collect()]\n",
    "assert first_5 == [1593879303631, 1593879304224, 1593879305465, 1593879305482, 1593879305746], \"Make sure you have not modified the data provided\"\n",
    "\n",
    "last_5 = [row['timestamp'] for row in spark.table(\"events_raw\").select(\"timestamp\").orderBy(F.col(\"timestamp\").desc()).limit(5).collect()]\n",
    "assert last_5 == [1593881096290, 1593881095799, 1593881093452, 1593881093394, 1593881092076], \"Make sure you have not modified the data provided\""
   ]
  },
  {
   "cell_type": "markdown",
   "metadata": {
    "application/vnd.databricks.v1+cell": {
     "cellMetadata": {},
     "inputWidgets": {},
     "nuid": "df1b0a80-09e8-4ae9-931e-3fd7dbe09e8b",
     "showTitle": false,
     "title": ""
    }
   },
   "source": [
    "<i18n value=\"e9565088-1762-4f89-a06f-49576a53526a\"/>\n",
    "\n",
    "\n",
    "\n",
    "## Create Delta Table from a Query\n",
    "In addition to new events data, let's also load a small lookup table that provides product details that we'll use later in the course.\n",
    "Use a CTAS statement to create a managed Delta table named **`item_lookup`** that extracts data from the parquet directory provided below."
   ]
  },
  {
   "cell_type": "code",
   "execution_count": 0,
   "metadata": {
    "application/vnd.databricks.v1+cell": {
     "cellMetadata": {
      "byteLimit": 2048000,
      "rowLimit": 10000
     },
     "inputWidgets": {},
     "nuid": "fcd5326e-0a9d-424d-abe3-9410d68022a5",
     "showTitle": false,
     "title": ""
    }
   },
   "outputs": [],
   "source": [
    "%python\n",
    "dbutils.fs.ls(f\"{DA.paths.datasets}/ecommerce/raw/\")"
   ]
  },
  {
   "cell_type": "code",
   "execution_count": 0,
   "metadata": {
    "application/vnd.databricks.v1+cell": {
     "cellMetadata": {
      "byteLimit": 2048000,
      "rowLimit": 10000
     },
     "inputWidgets": {},
     "nuid": "1d47a5df-e480-4045-ae61-84b51dd3f016",
     "showTitle": false,
     "title": ""
    }
   },
   "outputs": [],
   "source": [
    "-- TODO\n",
    "create table item_lookup as \n",
    "select * from parquet.`${DA.paths.datasets}/ecommerce/raw/item-lookup`"
   ]
  },
  {
   "cell_type": "code",
   "execution_count": 0,
   "metadata": {
    "application/vnd.databricks.v1+cell": {
     "cellMetadata": {
      "byteLimit": 2048000,
      "rowLimit": 10000
     },
     "inputWidgets": {},
     "nuid": "f2ae86f8-bca2-43ac-ab39-aa0423e0b85b",
     "showTitle": false,
     "title": ""
    }
   },
   "outputs": [],
   "source": [
    "select * from item_lookup;"
   ]
  },
  {
   "cell_type": "markdown",
   "metadata": {
    "application/vnd.databricks.v1+cell": {
     "cellMetadata": {},
     "inputWidgets": {},
     "nuid": "6cd05184-367e-4445-868a-3817135281ad",
     "showTitle": false,
     "title": ""
    }
   },
   "source": [
    "<i18n value=\"9f1ad20f-1238-4a12-ad2a-f10169ed6475\"/>\n",
    "\n",
    "\n",
    "\n",
    "Run the cell below to confirm the lookup table has been loaded correctly."
   ]
  },
  {
   "cell_type": "code",
   "execution_count": 0,
   "metadata": {
    "application/vnd.databricks.v1+cell": {
     "cellMetadata": {
      "byteLimit": 2048000,
      "rowLimit": 10000
     },
     "inputWidgets": {},
     "nuid": "0fd1b4d8-250c-4f6d-b63d-349174abe74d",
     "showTitle": false,
     "title": ""
    }
   },
   "outputs": [],
   "source": [
    "%python\n",
    "assert spark.table(\"item_lookup\").count() == 12, \"The table should have 12 records\"\n",
    "assert set(row['item_id'] for row in spark.table(\"item_lookup\").select(\"item_id\").orderBy('item_id').limit(5).collect()) == {'M_PREM_F', 'M_PREM_K', 'M_PREM_Q', 'M_PREM_T', 'M_STAN_F'}, \"Make sure you have not modified the data provided\""
   ]
  },
  {
   "cell_type": "markdown",
   "metadata": {
    "application/vnd.databricks.v1+cell": {
     "cellMetadata": {},
     "inputWidgets": {},
     "nuid": "2f505269-08a4-47af-842b-fb65a9be929a",
     "showTitle": false,
     "title": ""
    }
   },
   "source": [
    "<i18n value=\"c24885ea-010e-4b76-9e9d-cc749f10993a\"/>\n",
    "\n",
    " \n",
    "Run the following cell to delete the tables and files associated with this lesson."
   ]
  },
  {
   "cell_type": "code",
   "execution_count": 0,
   "metadata": {
    "application/vnd.databricks.v1+cell": {
     "cellMetadata": {
      "byteLimit": 2048000,
      "rowLimit": 10000
     },
     "inputWidgets": {},
     "nuid": "e42a1389-485e-4486-96f2-9968b932ec93",
     "showTitle": false,
     "title": ""
    }
   },
   "outputs": [],
   "source": [
    "%python\n",
    "DA.cleanup()"
   ]
  },
  {
   "cell_type": "markdown",
   "metadata": {
    "application/vnd.databricks.v1+cell": {
     "cellMetadata": {},
     "inputWidgets": {},
     "nuid": "70b5eafd-190b-4892-9495-f404a9ed6376",
     "showTitle": false,
     "title": ""
    }
   },
   "source": [
    "-sandbox\n",
    "&copy; 2023 Databricks, Inc. All rights reserved.<br/>\n",
    "Apache, Apache Spark, Spark and the Spark logo are trademarks of the <a href=\"https://www.apache.org/\">Apache Software Foundation</a>.<br/>\n",
    "<br/>\n",
    "<a href=\"https://databricks.com/privacy-policy\">Privacy Policy</a> | <a href=\"https://databricks.com/terms-of-use\">Terms of Use</a> | <a href=\"https://help.databricks.com/\">Support</a>"
   ]
  }
 ],
 "metadata": {
  "application/vnd.databricks.v1+notebook": {
   "dashboards": [],
   "language": "sql",
   "notebookMetadata": {
    "pythonIndentUnit": 2
   },
   "notebookName": "DE 4.5L - Extract and Load Data Lab",
   "notebookOrigID": 597306790460544,
   "widgets": {}
  }
 },
 "nbformat": 4,
 "nbformat_minor": 0
}
